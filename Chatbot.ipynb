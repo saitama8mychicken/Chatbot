{
  "nbformat": 4,
  "nbformat_minor": 0,
  "metadata": {
    "colab": {
      "name": "Chatbot.ipynb",
      "provenance": [],
      "collapsed_sections": [],
      "machine_shape": "hm"
    },
    "kernelspec": {
      "name": "python3",
      "display_name": "Python 3"
    },
    "accelerator": "GPU"
  },
  "cells": [
    {
      "cell_type": "markdown",
      "metadata": {
        "id": "IdV5h1HTE9Yn",
        "colab_type": "text"
      },
      "source": [
        "# <b>Building a Chatbot from Scratch "
      ]
    },
    {
      "cell_type": "markdown",
      "metadata": {
        "id": "eQzzHdFVFDNX",
        "colab_type": "text"
      },
      "source": [
        "\n",
        "##### <b>In this project we will build a chatbot from scratch using the corenell University's Movie Dialogue corpus.\n",
        "##### <i><b>We will be using a deep learning based architecture with the main components as a lstm based encoder and decoder."
      ]
    },
    {
      "cell_type": "code",
      "metadata": {
        "id": "2vCiHh8_R7Fu",
        "colab_type": "code",
        "outputId": "f3036adf-2875-4b5a-f454-7d6d77f00f15",
        "colab": {
          "base_uri": "https://localhost:8080/",
          "height": 156
        }
      },
      "source": [
        "import tensorflow.compat.v1 as tf\n",
        "tf.disable_v2_behavior()\n",
        "from tensorflow.keras.models import Model\n",
        "from tensorflow.python.keras.layers.recurrent import LSTM\n",
        "from tensorflow.keras.layers import Dense, Input, Embedding, Dropout\n",
        "from tensorflow.keras.preprocessing.sequence import pad_sequences\n",
        "from tensorflow.keras.callbacks import ModelCheckpoint\n",
        "from collections import Counter\n",
        "import nltk\n",
        "import numpy as np\n",
        "from sklearn.model_selection import train_test_split\n",
        "from tensorflow.keras.models import load_model, model_from_json\n",
        "import keras\n",
        "import nltk\n",
        "import numpy as np\n",
        "import sklearn\n",
        "nltk.download('punkt')"
      ],
      "execution_count": 1,
      "outputs": [
        {
          "output_type": "stream",
          "text": [
            "WARNING:tensorflow:From /usr/local/lib/python3.6/dist-packages/tensorflow/python/compat/v2_compat.py:96: disable_resource_variables (from tensorflow.python.ops.variable_scope) is deprecated and will be removed in a future version.\n",
            "Instructions for updating:\n",
            "non-resource variables are not supported in the long term\n",
            "[nltk_data] Downloading package punkt to /root/nltk_data...\n",
            "[nltk_data]   Package punkt is already up-to-date!\n"
          ],
          "name": "stdout"
        },
        {
          "output_type": "stream",
          "text": [
            "Using TensorFlow backend.\n"
          ],
          "name": "stderr"
        },
        {
          "output_type": "execute_result",
          "data": {
            "text/plain": [
              "True"
            ]
          },
          "metadata": {
            "tags": []
          },
          "execution_count": 1
        }
      ]
    },
    {
      "cell_type": "code",
      "metadata": {
        "id": "QQwBSNVIfdyM",
        "colab_type": "code",
        "colab": {}
      },
      "source": [
        ""
      ],
      "execution_count": 0,
      "outputs": []
    },
    {
      "cell_type": "markdown",
      "metadata": {
        "id": "JJQdgKyUFUJX",
        "colab_type": "text"
      },
      "source": [
        "Download the glove model available at https://nlp.stanford.edu/projects/glove/\n",
        "\n",
        "Specification : Twitter (2B tweets, 27B tokens, 1.2M vocab, uncased, 25d, 50d, 100d, & 200d vectors, 1.42 GB download): glove.twitter.27B.zip\n"
      ]
    },
    {
      "cell_type": "markdown",
      "metadata": {
        "id": "6E5noJ6rFt-6",
        "colab_type": "text"
      },
      "source": [
        "you can download it with 'wget' or can directly put the embedding zip file inside 'embedding_data' folder and unzip it."
      ]
    },
    {
      "cell_type": "code",
      "metadata": {
        "id": "Mc0Lh3e5kTC5",
        "colab_type": "code",
        "colab": {}
      },
      "source": [
        "# ! curl -O http://downloads.cs.stanford.edu/nlp/data/glove.twitter.27B.zip "
      ],
      "execution_count": 0,
      "outputs": []
    },
    {
      "cell_type": "code",
      "metadata": {
        "id": "i9gx3IF9TMeh",
        "colab_type": "code",
        "colab": {}
      },
      "source": [
        "RAND_STATE=np.random.seed(42)\n",
        "BATCH_SIZE = 32\n",
        "NUM_EPOCHS = 10\n",
        "GLOVE_EMBEDDING_SIZE = 100\n",
        "HIDDEN_UNITS = 256\n",
        "MAX_INPUT_SEQ_LENGTH = 40\n",
        "MAX_TARGET_SEQ_LENGTH = 40\n",
        "MAX_VOCAB_SIZE = 10000\n",
        "DATA_SET_NAME = '/content/drive/My Drive/Chatbot/Chatbot'\n",
        "DATA_PATH = '/content/drive/My Drive/Chatbot/Chatbot/movie_lines_cleaned.txt'\n",
        "GLOVE_MODEL = \"/content/drive/My Drive/glove.twitter.27B.100d.txt\"\n",
        "WHITELIST = 'abcdefghijklmnopqrstuvwxyz1234567890?.,'\n",
        "WEIGHT_FILE_PATH =  DATA_SET_NAME + '/word-glove-weights.h5'"
      ],
      "execution_count": 0,
      "outputs": []
    },
    {
      "cell_type": "code",
      "metadata": {
        "id": "9L0id60gTZPt",
        "colab_type": "code",
        "colab": {}
      },
      "source": [
        "def in_white_list(_word):\n",
        "    return set(_word) <= set(WHITELIST)\n",
        "#   '''Check if the characters in the words are whitelisted'''"
      ],
      "execution_count": 0,
      "outputs": []
    },
    {
      "cell_type": "markdown",
      "metadata": {
        "id": "LAtGlqNiGCHA",
        "colab_type": "text"
      },
      "source": [
        "Load the glove word embedding in to a dictionary where the **key** is a unique **word token** and the **value** is a **d** dimension vector "
      ]
    },
    {
      "cell_type": "markdown",
      "metadata": {
        "id": "Lyg8iSWUGEpy",
        "colab_type": "text"
      },
      "source": [
        "# Test-1"
      ]
    },
    {
      "cell_type": "code",
      "metadata": {
        "id": "_NLGSWg0TlBs",
        "colab_type": "code",
        "colab": {}
      },
      "source": [
        "def load_glove_vector():\n",
        "    _word2embedding = {}\n",
        "    file = open(GLOVE_MODEL, mode='rt', encoding='utf8')\n",
        "    for line in file:\n",
        "        '''write here. write your code to load the data in to the dictionary\n",
        "        make sure the value is a numpy array of size 100\n",
        "        max  3 to 6 lines of code'''\n",
        "        words = line.strip().split()\n",
        "        word = words[0]\n",
        "        embedding = np.array(words[1:], dtype=np.float32)\n",
        "        _word2embedding[word] = embedding        \n",
        "    file.close()\n",
        "    return _word2embedding"
      ],
      "execution_count": 0,
      "outputs": []
    },
    {
      "cell_type": "code",
      "metadata": {
        "id": "wTv8TDMfToBw",
        "colab_type": "code",
        "colab": {}
      },
      "source": [
        "word2embedding = load_glove_vector()"
      ],
      "execution_count": 0,
      "outputs": []
    },
    {
      "cell_type": "code",
      "metadata": {
        "id": "HtCcKuxDTtpw",
        "colab_type": "code",
        "outputId": "061fc73d-51af-483a-8d11-9ac2bffc1cfc",
        "colab": {
          "base_uri": "https://localhost:8080/",
          "height": 34
        }
      },
      "source": [
        "assert len(word2embedding.keys())==1193514\n",
        "for key in word2embedding.keys():\n",
        "    try:\n",
        "        assert len(word2embedding[key])==100\n",
        "    except AssertionError:\n",
        "        print (key,len(word2embedding[key]))  "
      ],
      "execution_count": 7,
      "outputs": [
        {
          "output_type": "stream",
          "text": [
            "-0.32053 99\n"
          ],
          "name": "stdout"
        }
      ]
    },
    {
      "cell_type": "markdown",
      "metadata": {
        "id": "2VXmlxmSN0N_",
        "colab_type": "text"
      },
      "source": [
        "# Data Preparation"
      ]
    },
    {
      "cell_type": "code",
      "metadata": {
        "id": "cSSzAupfUOF8",
        "colab_type": "code",
        "colab": {}
      },
      "source": [
        "target_counter = Counter()\n",
        "lines = open(DATA_PATH, 'rt', encoding='utf8').read().split('\\n')\n",
        "input_texts = []\n",
        "target_texts = []\n",
        "prev_words = []"
      ],
      "execution_count": 0,
      "outputs": []
    },
    {
      "cell_type": "code",
      "metadata": {
        "id": "gu1Cq9yRWXg4",
        "colab_type": "code",
        "colab": {}
      },
      "source": [
        "for line in lines:\n",
        "    next_words = [w.lower() for w in nltk.word_tokenize(line)]\n",
        "    if len(next_words) > MAX_TARGET_SEQ_LENGTH:\n",
        "        next_words = next_words[0:MAX_TARGET_SEQ_LENGTH]\n",
        "    if len(prev_words) > 0:\n",
        "        input_texts.append(prev_words)\n",
        "        target_words = next_words[:]\n",
        "        target_words.insert(0, 'start')\n",
        "        target_words.append('end')\n",
        "        for w in target_words:\n",
        "            target_counter[w] += 1\n",
        "        target_texts.append(target_words)\n",
        "    prev_words = next_words"
      ],
      "execution_count": 0,
      "outputs": []
    },
    {
      "cell_type": "markdown",
      "metadata": {
        "id": "9kqhOyRYOMEw",
        "colab_type": "text"
      },
      "source": [
        "Filter the conversations till max word length and convert the dialogues pairs into input text and target texts. Put **start** and **end** token to recognise the beginning and end of the sentence token.\n",
        "\n",
        "## <b>Let's see some of the training examples"
      ]
    },
    {
      "cell_type": "code",
      "metadata": {
        "id": "7fALhlI2WnfR",
        "colab_type": "code",
        "outputId": "4e03e5a9-e20b-46bf-8734-c387c4083ec8",
        "colab": {
          "base_uri": "https://localhost:8080/",
          "height": 224
        }
      },
      "source": [
        "for idx, (input_words, target_words) in enumerate(zip(input_texts, target_texts)):\n",
        "    if idx > 10:\n",
        "        break\n",
        "    print([input_words, target_words])"
      ],
      "execution_count": 10,
      "outputs": [
        {
          "output_type": "stream",
          "text": [
            "[['they', 'do', 'not', '!'], ['start', 'they', 'do', 'to', '!', 'end']]\n",
            "[['they', 'do', 'to', '!'], ['start', 'i', 'hope', 'so', '.', 'end']]\n",
            "[['i', 'hope', 'so', '.'], ['start', 'she', 'okay', '?', 'end']]\n",
            "[['she', 'okay', '?'], ['start', 'let', \"'s\", 'go', '.', 'end']]\n",
            "[['let', \"'s\", 'go', '.'], ['start', 'wow', 'end']]\n",
            "[['wow'], ['start', 'okay', '--', 'you', \"'re\", 'gon', 'na', 'need', 'to', 'learn', 'how', 'to', 'lie', '.', 'end']]\n",
            "[['okay', '--', 'you', \"'re\", 'gon', 'na', 'need', 'to', 'learn', 'how', 'to', 'lie', '.'], ['start', 'no', 'end']]\n",
            "[['no'], ['start', 'i', \"'m\", 'kidding', '.', 'you', 'know', 'how', 'sometimes', 'you', 'just', 'become', 'this', '``', 'persona', \"''\", '?', 'and', 'you', 'do', \"n't\", 'know', 'how', 'to', 'quit', '?', 'end']]\n",
            "[['i', \"'m\", 'kidding', '.', 'you', 'know', 'how', 'sometimes', 'you', 'just', 'become', 'this', '``', 'persona', \"''\", '?', 'and', 'you', 'do', \"n't\", 'know', 'how', 'to', 'quit', '?'], ['start', 'like', 'my', 'fear', 'of', 'wearing', 'pastels', '?', 'end']]\n",
            "[['like', 'my', 'fear', 'of', 'wearing', 'pastels', '?'], ['start', 'the', '``', 'real', 'you', \"''\", '.', 'end']]\n",
            "[['the', '``', 'real', 'you', \"''\", '.'], ['start', 'what', 'good', 'stuff', '?', 'end']]\n"
          ],
          "name": "stdout"
        }
      ]
    },
    {
      "cell_type": "markdown",
      "metadata": {
        "id": "Df40O1vROaHt",
        "colab_type": "text"
      },
      "source": [
        "### Create two dictionaries \n",
        "<ol>\n",
        "<li>target_word2id\n",
        "<li>target_id2word\n",
        "</ol>\n",
        "and save it as NumPy file format in the disk.\n",
        "<p>\n",
        "<strong>NOTE:</strong> The ids should start from 1 beacause <strong>0</strong> is reserved for <strong>'unknown'</strong> tokens.\n",
        "Make sure you cosider only the <strong>most common</strong> tokens with <strong>MAX_VOCAB_SIZE</strong> defined above.\n",
        "\n",
        "Most common refers to tokens with higher frequency. \n",
        "</p>\n",
        "<strong>Help:</strong>\n",
        "<ol>\n",
        "<li>Use the target_counter which have the token counts.  \n",
        "<li>Use target_counter.most_common(MAX_VOCAB_SIZE) to filter common tokens\n",
        "    </ol>"
      ]
    },
    {
      "cell_type": "code",
      "metadata": {
        "id": "bF7tQ4dvWnkl",
        "colab_type": "code",
        "colab": {}
      },
      "source": [
        "target_word2idx = dict()\n",
        "'''create a target word to id dictionary called target_word2idx.\n",
        "2 to 3 lines '''\n",
        "for idx, word in enumerate(target_counter.most_common(MAX_VOCAB_SIZE)):\n",
        "    target_word2idx[word[0]] = idx + 1\n",
        "    \n",
        "if 'unk' not in target_word2idx:\n",
        "    target_word2idx['unk'] = 0\n",
        "\n",
        "# '''create a target to id diilter the conversations till max word length and convert the dialogues pairs into input text and target texts. Put **start** and **end** token to recognise the beginning and end of the sentence token.\n",
        "\n",
        "## Let's see some of the training examplesctionary called target_idx2word . Approx ~1 line'''\n",
        "target_idx2word = {value: key for key, value in target_word2idx.items() }\n",
        "\n",
        "num_decoder_tokens = len(target_idx2word)\n",
        "\n",
        "np.save( DATA_SET_NAME + '/word-glove-target-word2idx.npy', target_word2idx)\n",
        "np.save( DATA_SET_NAME + '/word-glove-target-idx2word.npy', target_idx2word)"
      ],
      "execution_count": 0,
      "outputs": []
    },
    {
      "cell_type": "markdown",
      "metadata": {
        "id": "Tnq9cE12OuQF",
        "colab_type": "text"
      },
      "source": [
        "## CHECK 2"
      ]
    },
    {
      "cell_type": "code",
      "metadata": {
        "id": "JPGYEDlpWnrb",
        "colab_type": "code",
        "colab": {}
      },
      "source": [
        "assert len (target_word2idx.keys())==len (target_idx2word.keys())==MAX_VOCAB_SIZE+1"
      ],
      "execution_count": 0,
      "outputs": []
    },
    {
      "cell_type": "markdown",
      "metadata": {
        "id": "HCbrtw2GOrVk",
        "colab_type": "text"
      },
      "source": [
        "# <b>Prepare the input data with embedding</b>\n",
        "The input data is a list of lists \n",
        "<ol>\n",
        "<li> First list is a list of sentences\n",
        "<li> Each sentence is a list of words\n",
        " </ol>"
      ]
    },
    {
      "cell_type": "code",
      "metadata": {
        "id": "mboaY4CCWnpH",
        "colab_type": "code",
        "outputId": "a56a67b1-ea28-4510-eb3b-7df1b28a8fda",
        "colab": {
          "base_uri": "https://localhost:8080/",
          "height": 34
        }
      },
      "source": [
        "input_texts_word2em = []\n",
        "encoder_max_seq_length = 0\n",
        "decoder_max_seq_length = 0\n",
        "\n",
        "for input_words, target_words in zip(input_texts, target_texts):\n",
        "    encoder_input_wids = []\n",
        "    for w in input_words:\n",
        "        '''enter your code here.\n",
        "        '''\n",
        "        embedding = np.zeros(shape=GLOVE_EMBEDDING_SIZE)\n",
        "        if w in word2embedding:\n",
        "            embedding = word2embedding[w]\n",
        "        encoder_input_wids.append(embedding)\n",
        "        \n",
        "\n",
        "    input_texts_word2em.append(encoder_input_wids)\n",
        "    encoder_max_seq_length = max(len(encoder_input_wids), encoder_max_seq_length)\n",
        "    decoder_max_seq_length = max(len(target_words), decoder_max_seq_length)\n",
        "\n",
        "context = dict()\n",
        "context['num_decoder_tokens'] = num_decoder_tokens\n",
        "context['encoder_max_seq_length'] = encoder_max_seq_length\n",
        "context['decoder_max_seq_length'] = decoder_max_seq_length\n",
        "\n",
        "print(context)\n",
        "np.save( DATA_SET_NAME + '/word-glove-context.npy', context)"
      ],
      "execution_count": 13,
      "outputs": [
        {
          "output_type": "stream",
          "text": [
            "{'num_decoder_tokens': 10001, 'encoder_max_seq_length': 40, 'decoder_max_seq_length': 42}\n"
          ],
          "name": "stdout"
        }
      ]
    },
    {
      "cell_type": "code",
      "metadata": {
        "id": "ZgIasMAZWni4",
        "colab_type": "code",
        "colab": {}
      },
      "source": [
        "for input_text,input_text_embed in zip (input_texts,range(len(input_texts_word2em))):\n",
        "    assert (len(input_text)==len(input_texts_word2em[input_text_embed]))"
      ],
      "execution_count": 0,
      "outputs": []
    },
    {
      "cell_type": "markdown",
      "metadata": {
        "id": "PzkOdzPpO37H",
        "colab_type": "text"
      },
      "source": [
        "## GENERATE TRAINING DATA PER BATCH"
      ]
    },
    {
      "cell_type": "markdown",
      "metadata": {
        "id": "YVQApmpZO4HL",
        "colab_type": "text"
      },
      "source": [
        "generate_batch takes input embedding data (input_word2em_data) and target text data (target_texts) and returns trainable X and Y.\n",
        "X is a list of [X1,X2]\n",
        "where \n",
        "X1 is encoder_input_data_batch( which is created by putting the word embedding(glove vector) of the input tokens) padded in to a shape of (BATCH_SIZE, encoder_max_seq_length, GLOVE_EMBEDDING_SIZE)\n",
        "\n",
        "X2 is decoder_input_data_batch which is created by putting the word embedding(glove vector) of the target_words tokens and padding it to a shape of (BATCH_SIZE, decoder_max_seq_length, GLOVE_EMBEDDING_SIZE)\n",
        "\n",
        "Y is decoder_target_data_batch which is in shape of (BATCH_SIZE, decoder_max_seq_length, num_decoder_tokens)\n",
        "which signifies for each target token text  in the batch we have an option of any token from the vocabularu to be the next predicted word "
      ]
    },
    {
      "cell_type": "code",
      "metadata": {
        "id": "afNd4tUXW_4S",
        "colab_type": "code",
        "colab": {}
      },
      "source": [
        "def generate_batch(input_word2em_data, output_text_data):\n",
        "    num_batches = len(input_word2em_data) // BATCH_SIZE\n",
        "    while True:\n",
        "        for batchIdx in range(0, num_batches):\n",
        "            start = batchIdx * BATCH_SIZE\n",
        "            end = (batchIdx + 1) * BATCH_SIZE\n",
        "            encoder_input_data_batch = pad_sequences(input_word2em_data[start:end], encoder_max_seq_length, dtype='float32', padding='post', truncating='post')\n",
        "            decoder_target_data_batch = np.zeros(shape=(BATCH_SIZE, decoder_max_seq_length, num_decoder_tokens))\n",
        "            decoder_input_data_batch = np.zeros(shape=(BATCH_SIZE, decoder_max_seq_length, GLOVE_EMBEDDING_SIZE))\n",
        "            '''Fill your code here. 5 to 10 lines'''\n",
        "            for index, target_words in enumerate(output_text_data[start:end]):\n",
        "                for idx, word in enumerate(target_words):\n",
        "                    word2index = target_word2idx['unk']  # default unknown\n",
        "                    if word in target_word2idx:\n",
        "                        word2index = target_word2idx[word]\n",
        "                    if word in word2embedding:\n",
        "                        decoder_input_data_batch[index, idx, :] = word2embedding[word]\n",
        "                    if idx > 0:\n",
        "                        decoder_target_data_batch[index, idx - 1, word2index] = 1\n",
        "            yield [encoder_input_data_batch, decoder_input_data_batch], decoder_target_data_batch\n"
      ],
      "execution_count": 0,
      "outputs": []
    },
    {
      "cell_type": "markdown",
      "metadata": {
        "id": "vIySnGEgX82R",
        "colab_type": "text"
      },
      "source": [
        "## **Check-4**"
      ]
    },
    {
      "cell_type": "code",
      "metadata": {
        "id": "JZdMdv79X5lh",
        "colab_type": "code",
        "colab": {
          "base_uri": "https://localhost:8080/",
          "height": 34
        },
        "outputId": "93ca18f8-7e93-462a-8a23-f85371ac7343"
      },
      "source": [
        "Xtrain, Xtest, Ytrain, Ytest = train_test_split(input_texts_word2em, target_texts, test_size=0.2, random_state=42)\n",
        "train_gen = generate_batch(Xtrain, Ytrain)\n",
        "for i,j in train_gen:\n",
        "    assert i[0].shape==(BATCH_SIZE,context['encoder_max_seq_length'],GLOVE_EMBEDDING_SIZE)\n",
        "    assert i[1].shape==(BATCH_SIZE,context['decoder_max_seq_length'],GLOVE_EMBEDDING_SIZE)\n",
        "    assert j.shape==(BATCH_SIZE,context['decoder_max_seq_length'],context['num_decoder_tokens'])\n",
        "\n",
        "print ('Test Case 4 Passes!')"
      ],
      "execution_count": 16,
      "outputs": [
        {
          "output_type": "stream",
          "text": [
            "Test Case 4 Passes!\n"
          ],
          "name": "stdout"
        }
      ]
    },
    {
      "cell_type": "markdown",
      "metadata": {
        "id": "A8I5cglmYKO-",
        "colab_type": "text"
      },
      "source": [
        "# Model Architecture "
      ]
    },
    {
      "cell_type": "markdown",
      "metadata": {
        "id": "qUCF3GKNYR8x",
        "colab_type": "text"
      },
      "source": [
        "# The Model architecture is explined in the diagram below "
      ]
    },
    {
      "cell_type": "markdown",
      "metadata": {
        "id": "Ru6LZhq1YWw9",
        "colab_type": "text"
      },
      "source": [
        "# Test-5"
      ]
    },
    {
      "cell_type": "markdown",
      "metadata": {
        "id": "Z5MmYY1MYg2d",
        "colab_type": "text"
      },
      "source": [
        "<ol>\n",
        "<li> Step 1: Use a LSTM encoder to get input words encoded in the form of (encoder outputs, encoder hidden state, encoder context) from input words\n",
        "<li> Step 2:  Use a LSTM decoder to get target words encoded in the form of (decoder outputs, decoder hidden state, decoder context) from target words. Use encoder hidden states and encoder context (represents input memory) as initial state .\n",
        "<li> Step 3: Use a dense layer to predict the next token out of the vocabulary given decoder output generated by Step 2.\n",
        "<li> Step 4: Use loss ='categorical_crossentropy' and optimizer='rmsprop'\n",
        "</ol>"
      ]
    },
    {
      "cell_type": "code",
      "metadata": {
        "id": "DkvOwAwceIyo",
        "colab_type": "code",
        "outputId": "82248516-3802-4d92-ca37-0a90859aa230",
        "colab": {
          "base_uri": "https://localhost:8080/",
          "height": 88
        }
      },
      "source": [
        "'''write your code here.\n",
        "   create a model object'''\n",
        "\n",
        "#Encoder layers,inputs,outputs\n",
        "encoder_inputs = Input(shape=(None, GLOVE_EMBEDDING_SIZE), name='encoder_inputs')\n",
        "encoder_lstm = LSTM(units=HIDDEN_UNITS, return_state=True, name='encoder_lstm')\n",
        "encoder_outputs, encoder_state_h, encoder_state_c = encoder_lstm(encoder_inputs)\n",
        "encoder_states = [encoder_state_h, encoder_state_c]\n",
        "\n",
        "#Decoder layers - input,output,LSTM,Dense\n",
        "decoder_inputs = Input(shape=(None, GLOVE_EMBEDDING_SIZE), name='decoder_inputs')\n",
        "decoder_lstm = LSTM(units=HIDDEN_UNITS, return_state=True, return_sequences=True, name='decoder_lstm')\n",
        "decoder_outputs, decoder_state_h, decoder_state_c = decoder_lstm(decoder_inputs,\n",
        "                                                                 initial_state=encoder_states)\n",
        "decoder_dense = Dense(units=num_decoder_tokens, activation='softmax', name='decoder_dense')\n",
        "decoder_outputs = decoder_dense(decoder_outputs)\n",
        "#model \n",
        "model = Model([encoder_inputs, decoder_inputs], decoder_outputs)\n",
        "model.compile(loss='categorical_crossentropy', optimizer='rmsprop',metrics=['accuracy'])"
      ],
      "execution_count": 17,
      "outputs": [
        {
          "output_type": "stream",
          "text": [
            "WARNING:tensorflow:From /usr/local/lib/python3.6/dist-packages/tensorflow/python/ops/resource_variable_ops.py:1666: calling BaseResourceVariable.__init__ (from tensorflow.python.ops.resource_variable_ops) with constraint is deprecated and will be removed in a future version.\n",
            "Instructions for updating:\n",
            "If using Keras pass *_constraint arguments to layers.\n"
          ],
          "name": "stdout"
        }
      ]
    },
    {
      "cell_type": "code",
      "metadata": {
        "id": "0MWCL9zpKtBI",
        "colab_type": "code",
        "outputId": "8c32b49f-92b8-409b-95f3-66e15c49df63",
        "colab": {
          "base_uri": "https://localhost:8080/",
          "height": 357
        }
      },
      "source": [
        "model.summary()"
      ],
      "execution_count": 18,
      "outputs": [
        {
          "output_type": "stream",
          "text": [
            "Model: \"model\"\n",
            "__________________________________________________________________________________________________\n",
            "Layer (type)                    Output Shape         Param #     Connected to                     \n",
            "==================================================================================================\n",
            "encoder_inputs (InputLayer)     [(None, None, 100)]  0                                            \n",
            "__________________________________________________________________________________________________\n",
            "decoder_inputs (InputLayer)     [(None, None, 100)]  0                                            \n",
            "__________________________________________________________________________________________________\n",
            "encoder_lstm (LSTM)             [(None, 256), (None, 365568      encoder_inputs[0][0]             \n",
            "__________________________________________________________________________________________________\n",
            "decoder_lstm (LSTM)             [(None, None, 256),  365568      decoder_inputs[0][0]             \n",
            "                                                                 encoder_lstm[0][1]               \n",
            "                                                                 encoder_lstm[0][2]               \n",
            "__________________________________________________________________________________________________\n",
            "decoder_dense (Dense)           (None, None, 10001)  2570257     decoder_lstm[0][0]               \n",
            "==================================================================================================\n",
            "Total params: 3,301,393\n",
            "Trainable params: 3,301,393\n",
            "Non-trainable params: 0\n",
            "__________________________________________________________________________________________________\n"
          ],
          "name": "stdout"
        }
      ]
    },
    {
      "cell_type": "markdown",
      "metadata": {
        "id": "WqzFBHTwYoz-",
        "colab_type": "text"
      },
      "source": [
        "## CHECK 5"
      ]
    },
    {
      "cell_type": "code",
      "metadata": {
        "id": "uz8EHtpRE8NM",
        "colab_type": "code",
        "outputId": "9f5a128c-cf71-407b-f7a7-632302b9ef9f",
        "colab": {
          "base_uri": "https://localhost:8080/",
          "height": 417
        }
      },
      "source": [
        "from tensorflow.keras.utils import plot_model\n",
        "plot_model(model, to_file='model.png')\n",
        "from IPython.display import Image\n",
        "Image(filename='model.png',height=400,width=400)"
      ],
      "execution_count": 19,
      "outputs": [
        {
          "output_type": "execute_result",
          "data": {
            "image/png": "[encoded data removed]",
            "text/plain": [
              "<IPython.core.display.Image object>"
            ]
          },
          "metadata": {
            "tags": [],
            "image/png": {
              "width": 400,
              "height": 400
            }
          },
          "execution_count": 19
        }
      ]
    },
    {
      "cell_type": "markdown",
      "metadata": {
        "id": "r5t5zRlMYzlm",
        "colab_type": "text"
      },
      "source": [
        "## <b>Training"
      ]
    },
    {
      "cell_type": "markdown",
      "metadata": {
        "id": "FC33XmJllWdO",
        "colab_type": "text"
      },
      "source": [
        "### In case model is already trained then load the weights and run the model"
      ]
    },
    {
      "cell_type": "code",
      "metadata": {
        "id": "oeK5uhwAlTOS",
        "colab_type": "code",
        "colab": {}
      },
      "source": [
        "# # load json and create model\n",
        "# json_file = open('/content/drive/My Drive/Chatbot/Chatbot/colab_model.json', 'r')\n",
        "# load_model_json = json_file.read()\n",
        "# json_file.close()\n",
        "# loaded_model = model_from_json(load_model_json)\n",
        "# # load weights into new model\n",
        "# loaded_model.load_weights(\"/content/drive/My Drive/Chatbot/Chatbot/colab_model.h5\")\n",
        "# print(\"Loaded model from disk\")"
      ],
      "execution_count": 0,
      "outputs": []
    },
    {
      "cell_type": "code",
      "metadata": {
        "id": "z1xOZYEqXANC",
        "colab_type": "code",
        "outputId": "22e8cf34-0bf9-4336-97c4-5cd2d9cf091d",
        "colab": {
          "base_uri": "https://localhost:8080/",
          "height": 785
        }
      },
      "source": [
        "#execution and updation of wt in batches\n",
        "train_gen = generate_batch(Xtrain, Ytrain)\n",
        "test_gen = generate_batch(Xtest, Ytest)\n",
        "\n",
        "BATCH_SIZE = 100\n",
        "\n",
        "train_num_batches = len(Xtrain) // BATCH_SIZE\n",
        "test_num_batches = len(Xtest) // BATCH_SIZE\n",
        "\n",
        "NUM_EPOCHS = 10\n",
        "\n",
        "# train model\n",
        "checkpoint = ModelCheckpoint(filepath=WEIGHT_FILE_PATH, save_best_only=True, verbose=1)\n",
        "\n",
        "model.fit_generator(generator=train_gen, steps_per_epoch=train_num_batches,\n",
        "                    epochs=NUM_EPOCHS,\n",
        "                    verbose=1,\n",
        "                    validation_data=test_gen, \n",
        "                    validation_steps=test_num_batches,\n",
        "                    callbacks=[checkpoint])"
      ],
      "execution_count": 20,
      "outputs": [
        {
          "output_type": "stream",
          "text": [
            "WARNING:tensorflow:From <ipython-input-20-4357f9aa8f90>:19: Model.fit_generator (from tensorflow.python.keras.engine.training_v1) is deprecated and will be removed in a future version.\n",
            "Instructions for updating:\n",
            "Please use Model.fit, which supports generators.\n",
            "Epoch 1/10\n",
            "2435/2435 [==============================] - ETA: 0s - loss: 1.4565 - acc: 0.2480\n",
            "Epoch 00001: val_loss improved from inf to 1.37323, saving model to /content/drive/My Drive/Chatbot/Chatbot/word-glove-weights.h5\n",
            "2435/2435 [==============================] - 686s 282ms/step - loss: 1.4565 - acc: 0.2480 - val_loss: 1.3732 - val_acc: 0.3414\n",
            "Epoch 2/10\n",
            "2435/2435 [==============================] - ETA: 0s - loss: 1.3395 - acc: 0.2696\n",
            "Epoch 00002: val_loss improved from 1.37323 to 1.33903, saving model to /content/drive/My Drive/Chatbot/Chatbot/word-glove-weights.h5\n",
            "2435/2435 [==============================] - 700s 287ms/step - loss: 1.3395 - acc: 0.2696 - val_loss: 1.3390 - val_acc: 0.0942\n",
            "Epoch 3/10\n",
            "2435/2435 [==============================] - ETA: 0s - loss: 1.3128 - acc: 0.3069\n",
            "Epoch 00003: val_loss improved from 1.33903 to 1.32462, saving model to /content/drive/My Drive/Chatbot/Chatbot/word-glove-weights.h5\n",
            "2435/2435 [==============================] - 690s 283ms/step - loss: 1.3128 - acc: 0.3069 - val_loss: 1.3246 - val_acc: 0.0960\n",
            "Epoch 4/10\n",
            "2435/2435 [==============================] - ETA: 0s - loss: 1.2990 - acc: 0.3213\n",
            "Epoch 00004: val_loss improved from 1.32462 to 1.31858, saving model to /content/drive/My Drive/Chatbot/Chatbot/word-glove-weights.h5\n",
            "2435/2435 [==============================] - 688s 283ms/step - loss: 1.2990 - acc: 0.3213 - val_loss: 1.3186 - val_acc: 0.1015\n",
            "Epoch 5/10\n",
            "2435/2435 [==============================] - ETA: 0s - loss: 1.2914 - acc: 0.2077\n",
            "Epoch 00005: val_loss improved from 1.31858 to 1.31703, saving model to /content/drive/My Drive/Chatbot/Chatbot/word-glove-weights.h5\n",
            "2435/2435 [==============================] - 688s 283ms/step - loss: 1.2914 - acc: 0.2077 - val_loss: 1.3170 - val_acc: 0.1041\n",
            "Epoch 6/10\n",
            "2435/2435 [==============================] - ETA: 0s - loss: 1.2882 - acc: 0.2010\n",
            "Epoch 00006: val_loss did not improve from 1.31703\n",
            "2435/2435 [==============================] - 688s 283ms/step - loss: 1.2882 - acc: 0.2010 - val_loss: 1.3181 - val_acc: 0.1134\n",
            "Epoch 7/10\n",
            "2435/2435 [==============================] - ETA: 0s - loss: 1.2842 - acc: 0.2646\n",
            "Epoch 00007: val_loss did not improve from 1.31703\n",
            "2435/2435 [==============================] - 684s 281ms/step - loss: 1.2842 - acc: 0.2646 - val_loss: 1.3192 - val_acc: 0.1001\n",
            "Epoch 8/10\n",
            "2435/2435 [==============================] - ETA: 0s - loss: 1.2817 - acc: 0.2222\n",
            "Epoch 00008: val_loss did not improve from 1.31703\n",
            "2435/2435 [==============================] - 685s 281ms/step - loss: 1.2817 - acc: 0.2222 - val_loss: 1.3174 - val_acc: 0.1068\n",
            "Epoch 9/10\n",
            "2435/2435 [==============================] - ETA: 0s - loss: 1.2806 - acc: 0.2788\n",
            "Epoch 00009: val_loss did not improve from 1.31703\n",
            "2435/2435 [==============================] - 684s 281ms/step - loss: 1.2806 - acc: 0.2788 - val_loss: 1.3185 - val_acc: 0.1118\n",
            "Epoch 10/10\n",
            "2435/2435 [==============================] - ETA: 0s - loss: 1.2789 - acc: 0.1535\n",
            "Epoch 00010: val_loss did not improve from 1.31703\n",
            "2435/2435 [==============================] - 681s 280ms/step - loss: 1.2789 - acc: 0.1535 - val_loss: 1.3206 - val_acc: 0.1045\n"
          ],
          "name": "stdout"
        },
        {
          "output_type": "execute_result",
          "data": {
            "text/plain": [
              "<tensorflow.python.keras.callbacks.History at 0x7f0dd45a5be0>"
            ]
          },
          "metadata": {
            "tags": []
          },
          "execution_count": 20
        }
      ]
    },
    {
      "cell_type": "code",
      "metadata": {
        "id": "bZ38PMkQNS9N",
        "colab_type": "code",
        "colab": {}
      },
      "source": [
        ""
      ],
      "execution_count": 0,
      "outputs": []
    },
    {
      "cell_type": "markdown",
      "metadata": {
        "id": "IL4gTOagZuBZ",
        "colab_type": "text"
      },
      "source": [
        "## SAVING THE MODEL"
      ]
    },
    {
      "cell_type": "code",
      "metadata": {
        "id": "87edXaRLXALu",
        "colab_type": "code",
        "outputId": "3431e21b-c80d-4e91-accc-9d4424705657",
        "colab": {
          "base_uri": "https://localhost:8080/",
          "height": 34
        }
      },
      "source": [
        "# serialize model to JSON\n",
        "model_json = model.to_json()\n",
        "with open(\"/content/drive/My Drive/Chatbot/Chatbot/colab_new_model.json\", \"w\") as json_file:\n",
        "    json_file.write(model_json)\n",
        "# serialize weights to HDF5\n",
        "model.save_weights(\"/content/drive/My Drive/Chatbot/Chatbot/colab_new_model.h5\")\n",
        "print(\"Saved model to disk\")"
      ],
      "execution_count": 21,
      "outputs": [
        {
          "output_type": "stream",
          "text": [
            "Saved model to disk\n"
          ],
          "name": "stdout"
        }
      ]
    },
    {
      "cell_type": "markdown",
      "metadata": {
        "id": "Qjlpnn6wl54r",
        "colab_type": "text"
      },
      "source": [
        "# <b>Prediction"
      ]
    },
    {
      "cell_type": "markdown",
      "metadata": {
        "id": "srB_jCOGZ2Ck",
        "colab_type": "text"
      },
      "source": [
        "\n",
        "\n",
        "---\n",
        "\n",
        "\n",
        "\n",
        "---\n",
        "\n",
        "**FOR TESTING THE CHATBOT GO TO TEST_CHATBOT. ipynb**"
      ]
    },
    {
      "cell_type": "markdown",
      "metadata": {
        "id": "J4ss33b-mBHk",
        "colab_type": "text"
      },
      "source": [
        "For predictions go to the test_chatbot.ipynb"
      ]
    },
    {
      "cell_type": "code",
      "metadata": {
        "id": "F8NDBU5Hlq0p",
        "colab_type": "code",
        "colab": {}
      },
      "source": [
        ""
      ],
      "execution_count": 0,
      "outputs": []
    }
  ]
}